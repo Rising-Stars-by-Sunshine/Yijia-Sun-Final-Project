{
  "nbformat": 4,
  "nbformat_minor": 0,
  "metadata": {
    "colab": {
      "provenance": []
    },
    "kernelspec": {
      "name": "python3",
      "display_name": "Python 3"
    },
    "language_info": {
      "name": "python"
    }
  },
  "cells": [
    {
      "cell_type": "code",
      "source": [
        "!pip install ace_tools"
      ],
      "metadata": {
        "colab": {
          "base_uri": "https://localhost:8080/"
        },
        "id": "_n6HYWDHFXuI",
        "outputId": "7b192209-c10d-4efb-ab1e-2ef210fc1040"
      },
      "execution_count": null,
      "outputs": [
        {
          "output_type": "stream",
          "name": "stdout",
          "text": [
            "Requirement already satisfied: ace_tools in /usr/local/lib/python3.11/dist-packages (0.0)\n"
          ]
        }
      ]
    },
    {
      "cell_type": "code",
      "execution_count": null,
      "metadata": {
        "colab": {
          "base_uri": "https://localhost:8080/"
        },
        "id": "qUy7hpEa0Kuh",
        "outputId": "6122cc06-17b0-4ba3-bd0a-11851f3bd02a"
      },
      "outputs": [
        {
          "output_type": "stream",
          "name": "stdout",
          "text": [
            "Preprocessing complete. Data saved to 'Preprocessed_Comorbidity_Data.csv'.\n"
          ]
        }
      ],
      "source": [
        "import pandas as pd\n",
        "import numpy as np\n",
        "from sklearn.impute import KNNImputer\n",
        "from sklearn.preprocessing import OneHotEncoder, MinMaxScaler\n",
        "\n",
        "# Load the dataset\n",
        "file_path = \"Prevalence_Sex_Age_Year_ICD.csv\"  # Change this to the correct path\n",
        "df = pd.read_csv(file_path)\n",
        "\n",
        "# Step 1: Handling Missing Data using KNN Imputation\n",
        "\n",
        "# Convert categorical columns to numerical for KNN imputation\n",
        "df_impute = df.copy()\n",
        "df_impute['sex'] = df_impute['sex'].astype('category').cat.codes\n",
        "df_impute['Age_Group'] = df_impute['Age_Group'].astype('category').cat.codes\n",
        "df_impute['icd_code'] = df_impute['icd_code'].astype('category').cat.codes\n",
        "\n",
        "# Apply KNN Imputation on the numerical data\n",
        "imputer = KNNImputer(n_neighbors=5)\n",
        "df_impute[['p']] = imputer.fit_transform(df_impute[['p']])\n",
        "\n",
        "# Restore categorical values\n",
        "df_impute['sex'] = df['sex']\n",
        "df_impute['Age_Group'] = df['Age_Group']\n",
        "df_impute['icd_code'] = df['icd_code']\n",
        "\n",
        "# Step 2: Data Transformation\n",
        "\n",
        "# One-hot encoding for categorical variables (sex, Age_Group)\n",
        "encoder = OneHotEncoder(sparse_output=False, drop='first')  # Corrected parameter name\n",
        "encoded_columns = encoder.fit_transform(df_impute[['sex', 'Age_Group']])\n",
        "encoded_df = pd.DataFrame(encoded_columns, columns=encoder.get_feature_names_out(['sex', 'Age_Group']))\n",
        "\n",
        "# Min-max scaling for prevalence values (p)\n",
        "scaler = MinMaxScaler()\n",
        "df_impute['p'] = scaler.fit_transform(df_impute[['p']])\n",
        "\n",
        "# Concatenate encoded columns back to the dataframe\n",
        "df_transformed = pd.concat([df_impute.drop(columns=['sex', 'Age_Group']), encoded_df], axis=1)\n",
        "\n",
        "# Step 3: Temporal Splitting\n",
        "def assign_period(year):\n",
        "    if 1997 <= year <= 2002:\n",
        "        return '1997-2002'\n",
        "    elif 2003 <= year <= 2008:\n",
        "        return '2003-2008'\n",
        "    elif 2009 <= year <= 2014:\n",
        "        return '2009-2014'\n",
        "    else:\n",
        "        return 'Other'\n",
        "\n",
        "df_transformed['time_period'] = df_transformed['year'].apply(assign_period)\n",
        "\n",
        "# Save preprocessed data to a new CSV file\n",
        "df_transformed.to_csv(\"Preprocessed_Comorbidity_Data.csv\", index=False)\n",
        "\n",
        "print(\"Preprocessing complete. Data saved to 'Preprocessed_Comorbidity_Data.csv'.\")\n"
      ]
    }
  ]
}